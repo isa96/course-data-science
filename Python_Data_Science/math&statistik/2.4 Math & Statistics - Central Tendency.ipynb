{
 "cells": [
  {
   "cell_type": "code",
   "execution_count": 1,
   "id": "0a7dd39d",
   "metadata": {},
   "outputs": [],
   "source": [
    "# Copyright © 2022 Indonesia AI. All Rights Reserved.\n",
    "# contact@aiforindonesia.org"
   ]
  },
  {
   "cell_type": "markdown",
   "id": "d076c6ac",
   "metadata": {},
   "source": [
    "### Mendapatkan nilai mean"
   ]
  },
  {
   "cell_type": "code",
   "execution_count": 2,
   "id": "568631ce",
   "metadata": {},
   "outputs": [],
   "source": [
    "import numpy as np\n",
    "\n",
    "score = [90, 80, 70, 65, 110, 80, 83, 67, 94]\n",
    "\n",
    "x = np.mean(score)"
   ]
  },
  {
   "cell_type": "markdown",
   "id": "0851c78c",
   "metadata": {},
   "source": [
    "### Mendapatkan nilai median"
   ]
  },
  {
   "cell_type": "code",
   "execution_count": 3,
   "id": "6acd8a3a",
   "metadata": {},
   "outputs": [],
   "source": [
    "import numpy as np\n",
    "\n",
    "score = [90, 80, 70, 65, 110, 80, 83, 67, 94]\n",
    "\n",
    "x = np.median(score)"
   ]
  },
  {
   "cell_type": "markdown",
   "id": "67fa412d",
   "metadata": {},
   "source": [
    "### Mendapatkan nilai mode"
   ]
  },
  {
   "cell_type": "code",
   "execution_count": 4,
   "id": "09242a8b",
   "metadata": {},
   "outputs": [],
   "source": [
    "from scipy import stats\n",
    "\n",
    "score = [90, 80, 70, 65, 110, 80, 83, 67, 94]\n",
    "\n",
    "x = stats.mode(score)"
   ]
  },
  {
   "cell_type": "markdown",
   "id": "cef0fb16",
   "metadata": {},
   "source": [
    "---"
   ]
  }
 ],
 "metadata": {
  "kernelspec": {
   "display_name": "Python 3 (ipykernel)",
   "language": "python",
   "name": "python3"
  },
  "language_info": {
   "codemirror_mode": {
    "name": "ipython",
    "version": 3
   },
   "file_extension": ".py",
   "mimetype": "text/x-python",
   "name": "python",
   "nbconvert_exporter": "python",
   "pygments_lexer": "ipython3",
   "version": "3.9.12"
  }
 },
 "nbformat": 4,
 "nbformat_minor": 5
}
