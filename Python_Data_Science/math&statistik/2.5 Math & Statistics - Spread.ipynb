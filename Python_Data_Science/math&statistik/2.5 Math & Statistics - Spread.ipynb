{
 "cells": [
  {
   "cell_type": "code",
   "execution_count": 1,
   "id": "a5359671",
   "metadata": {},
   "outputs": [],
   "source": [
    "# Copyright © 2022 Indonesia AI. All Rights Reserved.\n",
    "# contact@aiforindonesia.org"
   ]
  },
  {
   "cell_type": "markdown",
   "id": "51e9ecad",
   "metadata": {},
   "source": [
    "### Mendapatkan nilai range"
   ]
  },
  {
   "cell_type": "code",
   "execution_count": 2,
   "id": "e214fe85",
   "metadata": {},
   "outputs": [],
   "source": [
    "import numpy as np\n",
    "\n",
    "data = [2, 3, 7, 8, 9, 12, 15, 20, 50, 42]\n",
    "\n",
    "minimum = np.min(data)\n",
    "maximum = np.max(data)\n",
    "x = maximum - minimum"
   ]
  },
  {
   "cell_type": "code",
   "execution_count": 3,
   "id": "799ccf19",
   "metadata": {},
   "outputs": [
    {
     "data": {
      "text/plain": [
       "48"
      ]
     },
     "execution_count": 3,
     "metadata": {},
     "output_type": "execute_result"
    }
   ],
   "source": [
    "x"
   ]
  },
  {
   "cell_type": "markdown",
   "id": "fc04ef2e",
   "metadata": {},
   "source": [
    "### Mendapatkan nilai percentile"
   ]
  },
  {
   "cell_type": "code",
   "execution_count": 4,
   "id": "be2ecc49",
   "metadata": {},
   "outputs": [],
   "source": [
    "import numpy as np\n",
    "\n",
    "data = [90, 80, 70, 65, 110, 80, 83, 67, 94]\n",
    "\n",
    "x = np.percentile(data, 90)"
   ]
  },
  {
   "cell_type": "code",
   "execution_count": 5,
   "id": "90c3f22d",
   "metadata": {},
   "outputs": [
    {
     "data": {
      "text/plain": [
       "97.2"
      ]
     },
     "execution_count": 5,
     "metadata": {},
     "output_type": "execute_result"
    }
   ],
   "source": [
    "x"
   ]
  },
  {
   "cell_type": "markdown",
   "id": "ddf3f4c2",
   "metadata": {},
   "source": [
    "### Mendapatkan nilai quartile dan interquartile range"
   ]
  },
  {
   "cell_type": "code",
   "execution_count": 6,
   "id": "22dc804e",
   "metadata": {},
   "outputs": [],
   "source": [
    "import numpy as np\n",
    "\n",
    "data = [3, 4, 4, 5, 5, 6, 6, 7, 8, 8, 9, 10]\n",
    "\n",
    "Q1 = np.median(data[:int(len(data)/2)])\n",
    "Q3 = np.median(data[int(len(data)/2):])\n",
    "IQR = Q3 - Q1"
   ]
  },
  {
   "cell_type": "code",
   "execution_count": 7,
   "id": "b5704b53",
   "metadata": {},
   "outputs": [
    {
     "data": {
      "text/plain": [
       "(4.5, 8.0, 3.5)"
      ]
     },
     "execution_count": 7,
     "metadata": {},
     "output_type": "execute_result"
    }
   ],
   "source": [
    "Q1, Q3, IQR"
   ]
  },
  {
   "cell_type": "markdown",
   "id": "f64b183c",
   "metadata": {},
   "source": [
    "### Mendapatkan nilai variance dan standard deviation"
   ]
  },
  {
   "cell_type": "code",
   "execution_count": 8,
   "id": "d484289f",
   "metadata": {},
   "outputs": [],
   "source": [
    "import numpy as np\n",
    "\n",
    "data= [86, 87, 88, 86, 87, 85, 86]\n",
    "\n",
    "mean = np.mean(data)\n",
    "var = np.var(data)\n",
    "std = np.std(data)"
   ]
  },
  {
   "cell_type": "code",
   "execution_count": 9,
   "id": "2e527837",
   "metadata": {},
   "outputs": [
    {
     "data": {
      "text/plain": [
       "(86.42857142857143, 0.8163265306122449, 0.9035079029052513)"
      ]
     },
     "execution_count": 9,
     "metadata": {},
     "output_type": "execute_result"
    }
   ],
   "source": [
    "mean, var, std"
   ]
  },
  {
   "cell_type": "markdown",
   "id": "b96136af",
   "metadata": {},
   "source": [
    "---"
   ]
  }
 ],
 "metadata": {
  "kernelspec": {
   "display_name": "Python 3 (ipykernel)",
   "language": "python",
   "name": "python3"
  },
  "language_info": {
   "codemirror_mode": {
    "name": "ipython",
    "version": 3
   },
   "file_extension": ".py",
   "mimetype": "text/x-python",
   "name": "python",
   "nbconvert_exporter": "python",
   "pygments_lexer": "ipython3",
   "version": "3.9.12"
  }
 },
 "nbformat": 4,
 "nbformat_minor": 5
}
