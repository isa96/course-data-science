{
 "cells": [
  {
   "cell_type": "code",
   "execution_count": 1,
   "id": "2ece4aa0",
   "metadata": {},
   "outputs": [],
   "source": [
    "# Copyright © 2022 Indonesia AI. All Rights Reserved.\n",
    "# contact@aiforindonesia.org"
   ]
  },
  {
   "cell_type": "markdown",
   "id": "2e211b0d",
   "metadata": {},
   "source": [
    "### Mendapatkan nilai minimum dan maksimum"
   ]
  },
  {
   "cell_type": "code",
   "execution_count": 2,
   "id": "c5f65b57",
   "metadata": {},
   "outputs": [],
   "source": [
    "x = min(5, 10, 25)\n",
    "y = max(5, 10, 25)"
   ]
  },
  {
   "cell_type": "code",
   "execution_count": 3,
   "id": "241c249a",
   "metadata": {},
   "outputs": [
    {
     "data": {
      "text/plain": [
       "(5, 25)"
      ]
     },
     "execution_count": 3,
     "metadata": {},
     "output_type": "execute_result"
    }
   ],
   "source": [
    "x, y"
   ]
  },
  {
   "cell_type": "markdown",
   "id": "3e2cbe60",
   "metadata": {},
   "source": [
    "### Mendapatkan nilai absolut"
   ]
  },
  {
   "cell_type": "code",
   "execution_count": 4,
   "id": "e79e12a3",
   "metadata": {},
   "outputs": [],
   "source": [
    "x = abs(-7.25)"
   ]
  },
  {
   "cell_type": "code",
   "execution_count": 5,
   "id": "15e00d90",
   "metadata": {},
   "outputs": [
    {
     "data": {
      "text/plain": [
       "7.25"
      ]
     },
     "execution_count": 5,
     "metadata": {},
     "output_type": "execute_result"
    }
   ],
   "source": [
    "x"
   ]
  },
  {
   "cell_type": "markdown",
   "id": "39866110",
   "metadata": {},
   "source": [
    "### Mendapatkan nilai pangkat"
   ]
  },
  {
   "cell_type": "code",
   "execution_count": 6,
   "id": "af83cc12",
   "metadata": {},
   "outputs": [],
   "source": [
    "import math\n",
    "\n",
    "x = math.pow(4, 3)"
   ]
  },
  {
   "cell_type": "code",
   "execution_count": 7,
   "id": "5045cbe1",
   "metadata": {},
   "outputs": [
    {
     "data": {
      "text/plain": [
       "64.0"
      ]
     },
     "execution_count": 7,
     "metadata": {},
     "output_type": "execute_result"
    }
   ],
   "source": [
    "x"
   ]
  },
  {
   "cell_type": "markdown",
   "id": "8fee76f9",
   "metadata": {},
   "source": [
    "### Mendapatkan nilai akar"
   ]
  },
  {
   "cell_type": "code",
   "execution_count": 8,
   "id": "1192a71c",
   "metadata": {},
   "outputs": [],
   "source": [
    "import math\n",
    "\n",
    "x = math.sqrt(64)"
   ]
  },
  {
   "cell_type": "code",
   "execution_count": 9,
   "id": "c39e901c",
   "metadata": {},
   "outputs": [
    {
     "data": {
      "text/plain": [
       "8.0"
      ]
     },
     "execution_count": 9,
     "metadata": {},
     "output_type": "execute_result"
    }
   ],
   "source": [
    "x"
   ]
  },
  {
   "cell_type": "markdown",
   "id": "8329eb84",
   "metadata": {},
   "source": [
    "### Mendapatkan nilai pembulatan"
   ]
  },
  {
   "cell_type": "code",
   "execution_count": 10,
   "id": "517b2bd1",
   "metadata": {},
   "outputs": [],
   "source": [
    "import math\n",
    "\n",
    "x = math.ceil(1.4)\n",
    "y = math.floor(1.4)"
   ]
  },
  {
   "cell_type": "code",
   "execution_count": 11,
   "id": "d0fd420c",
   "metadata": {},
   "outputs": [
    {
     "data": {
      "text/plain": [
       "(2, 1)"
      ]
     },
     "execution_count": 11,
     "metadata": {},
     "output_type": "execute_result"
    }
   ],
   "source": [
    "x, y"
   ]
  },
  {
   "cell_type": "markdown",
   "id": "5f5f4e2a",
   "metadata": {},
   "source": [
    "### Mendapatkan nilai konstanta (PI)"
   ]
  },
  {
   "cell_type": "code",
   "execution_count": 12,
   "id": "da7d2324",
   "metadata": {},
   "outputs": [],
   "source": [
    "import math\n",
    "\n",
    "x = math.pi"
   ]
  },
  {
   "cell_type": "code",
   "execution_count": 13,
   "id": "665376a8",
   "metadata": {},
   "outputs": [
    {
     "data": {
      "text/plain": [
       "3.141592653589793"
      ]
     },
     "execution_count": 13,
     "metadata": {},
     "output_type": "execute_result"
    }
   ],
   "source": [
    "x"
   ]
  },
  {
   "cell_type": "markdown",
   "id": "652d8672",
   "metadata": {},
   "source": [
    "### Membuat Matriks di Python"
   ]
  },
  {
   "cell_type": "code",
   "execution_count": 14,
   "id": "5a2d6e96",
   "metadata": {},
   "outputs": [],
   "source": [
    "import numpy as np\n",
    "\n",
    "A = np.array([[80, 30, 25], \n",
    "              [50, 20, 10]])\n",
    "\n",
    "B = np.array([[30, 60, 15], \n",
    "              [10, 30, 30]])\n",
    "\n",
    "hasil_penjualan = A + B"
   ]
  },
  {
   "cell_type": "code",
   "execution_count": 15,
   "id": "3d5456f6",
   "metadata": {},
   "outputs": [
    {
     "data": {
      "text/plain": [
       "array([[110,  90,  40],\n",
       "       [ 60,  50,  40]])"
      ]
     },
     "execution_count": 15,
     "metadata": {},
     "output_type": "execute_result"
    }
   ],
   "source": [
    "hasil_penjualan"
   ]
  },
  {
   "cell_type": "markdown",
   "id": "c125aa4e",
   "metadata": {},
   "source": [
    "### Melakukan operasi dot product"
   ]
  },
  {
   "cell_type": "code",
   "execution_count": 16,
   "id": "165abdc0",
   "metadata": {},
   "outputs": [],
   "source": [
    "import numpy as np\n",
    "\n",
    "A = np.array([10, 20, 15])\n",
    "B = np.array([5, 15, 10])\n",
    "\n",
    "hasil = np.dot(A, B)"
   ]
  },
  {
   "cell_type": "code",
   "execution_count": 17,
   "id": "e754f046",
   "metadata": {},
   "outputs": [
    {
     "data": {
      "text/plain": [
       "500"
      ]
     },
     "execution_count": 17,
     "metadata": {},
     "output_type": "execute_result"
    }
   ],
   "source": [
    "hasil"
   ]
  },
  {
   "cell_type": "markdown",
   "id": "5f71ce0e",
   "metadata": {},
   "source": [
    "### Melakukan operasi cross product"
   ]
  },
  {
   "cell_type": "code",
   "execution_count": 18,
   "id": "1004e378",
   "metadata": {},
   "outputs": [],
   "source": [
    "import numpy as np\n",
    "\n",
    "A = np.array([10, 20, 15])\n",
    "B = np.array([5, 15, 10])\n",
    "\n",
    "hasil = np.cross(A, B)"
   ]
  },
  {
   "cell_type": "code",
   "execution_count": 19,
   "id": "57e78f01",
   "metadata": {},
   "outputs": [
    {
     "data": {
      "text/plain": [
       "array([-25, -25,  50])"
      ]
     },
     "execution_count": 19,
     "metadata": {},
     "output_type": "execute_result"
    }
   ],
   "source": [
    "hasil"
   ]
  },
  {
   "cell_type": "markdown",
   "id": "60ed6992",
   "metadata": {},
   "source": [
    "---"
   ]
  }
 ],
 "metadata": {
  "kernelspec": {
   "display_name": "Python 3 (ipykernel)",
   "language": "python",
   "name": "python3"
  },
  "language_info": {
   "codemirror_mode": {
    "name": "ipython",
    "version": 3
   },
   "file_extension": ".py",
   "mimetype": "text/x-python",
   "name": "python",
   "nbconvert_exporter": "python",
   "pygments_lexer": "ipython3",
   "version": "3.9.12"
  }
 },
 "nbformat": 4,
 "nbformat_minor": 5
}
